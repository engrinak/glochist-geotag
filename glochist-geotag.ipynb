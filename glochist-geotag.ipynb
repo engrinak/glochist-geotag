{
 "cells": [
  {
   "cell_type": "markdown",
   "metadata": {},
   "source": [
    "# Geotagging photos with Google Location History\n",
    "\n",
    "Geotagging photos can be very useful and while most smartphones take care of this automatically, many modern DSLR cameras do not.  Using the approach below, we can tag photos from our library using our google location history assuming that use the google map service and had our smartphone with us while shooting with the DSLR.\n",
    "\n",
    "To download google location history in json format, visit [google takeout](https://takeout.google.com/?hl=en).\n",
    "\n",
    "Additional considerations:\n",
    "* Images taken with DSLR set to the correct local time\n",
    "* Android Phone present while photos were taken\n",
    "* iPhone with google maps with permission set to \"always allow\" access to device location\n",
    "\n",
    "\n",
    "We can start by importing some things that we know we're going to need.  And then we can load the json data with pandas using json_normalize.  By examining the json data, we can see that 'locations' is probably the root note so we can start with that."
   ]
  },
  {
   "cell_type": "code",
   "execution_count": 6,
   "metadata": {},
   "outputs": [
    {
     "data": {
      "text/html": [
       "<div>\n",
       "<style scoped>\n",
       "    .dataframe tbody tr th:only-of-type {\n",
       "        vertical-align: middle;\n",
       "    }\n",
       "\n",
       "    .dataframe tbody tr th {\n",
       "        vertical-align: top;\n",
       "    }\n",
       "\n",
       "    .dataframe thead th {\n",
       "        text-align: right;\n",
       "    }\n",
       "</style>\n",
       "<table border=\"1\" class=\"dataframe\">\n",
       "  <thead>\n",
       "    <tr style=\"text-align: right;\">\n",
       "      <th></th>\n",
       "      <th>timestampMs</th>\n",
       "      <th>latitudeE7</th>\n",
       "      <th>longitudeE7</th>\n",
       "      <th>accuracy</th>\n",
       "      <th>altitude</th>\n",
       "      <th>activity</th>\n",
       "      <th>velocity</th>\n",
       "      <th>heading</th>\n",
       "    </tr>\n",
       "  </thead>\n",
       "  <tbody>\n",
       "    <tr>\n",
       "      <th>0</th>\n",
       "      <td>1496705193030</td>\n",
       "      <td>611923950</td>\n",
       "      <td>-1498647164</td>\n",
       "      <td>26</td>\n",
       "      <td>70.0</td>\n",
       "      <td>NaN</td>\n",
       "      <td>NaN</td>\n",
       "      <td>NaN</td>\n",
       "    </tr>\n",
       "    <tr>\n",
       "      <th>1</th>\n",
       "      <td>1496705101727</td>\n",
       "      <td>611923950</td>\n",
       "      <td>-1498647164</td>\n",
       "      <td>26</td>\n",
       "      <td>70.0</td>\n",
       "      <td>NaN</td>\n",
       "      <td>NaN</td>\n",
       "      <td>NaN</td>\n",
       "    </tr>\n",
       "    <tr>\n",
       "      <th>2</th>\n",
       "      <td>1496705041669</td>\n",
       "      <td>611923950</td>\n",
       "      <td>-1498647164</td>\n",
       "      <td>26</td>\n",
       "      <td>70.0</td>\n",
       "      <td>[{'timestampMs': '1496705043690', 'activity': ...</td>\n",
       "      <td>NaN</td>\n",
       "      <td>NaN</td>\n",
       "    </tr>\n",
       "  </tbody>\n",
       "</table>\n",
       "</div>"
      ],
      "text/plain": [
       "     timestampMs  latitudeE7  longitudeE7  accuracy  altitude  \\\n",
       "0  1496705193030   611923950  -1498647164        26      70.0   \n",
       "1  1496705101727   611923950  -1498647164        26      70.0   \n",
       "2  1496705041669   611923950  -1498647164        26      70.0   \n",
       "\n",
       "                                            activity  velocity  heading  \n",
       "0                                                NaN       NaN      NaN  \n",
       "1                                                NaN       NaN      NaN  \n",
       "2  [{'timestampMs': '1496705043690', 'activity': ...       NaN      NaN  "
      ]
     },
     "execution_count": 6,
     "metadata": {},
     "output_type": "execute_result"
    }
   ],
   "source": [
    "import pandas as pd\n",
    "import numpy as np\n",
    "import json\n",
    "\n",
    "with open ('History.json') as f:\n",
    "    d = json.load(f)\n",
    "\n",
    "data = pd.json_normalize(d['locations'])\n",
    "data.head(3)"
   ]
  },
  {
   "cell_type": "markdown",
   "metadata": {},
   "source": [
    "## Cleaning up and converting number formats\n",
    "\n",
    "Next we can do some cleanup of data and convert some of the number formats.  One thing that is sort of magic about this is that datetime.fromtimestamp seems to automatically recognize the timestamp after it has been converted from milliseconds to seconds.  One other thing to mention is that the altitude needs to be an 'int' later on but we can start with 'double' for now.\n",
    "\n",
    "Note: There is an 'activity' column with varying amounts of nested dictionaries and lists that seem to contain some useful information about the motion of the phone at the time (resting, walking, driving).  We'll skip this data for now since we don't need it for this purpose.  Out of curiousity, I was able to flatten it out into strings in csv format, however there were sometimes misaligned columns and it became increasingly difficult to deal with these.  "
   ]
  },
  {
   "cell_type": "code",
   "execution_count": 7,
   "metadata": {},
   "outputs": [
    {
     "data": {
      "text/html": [
       "<div>\n",
       "<style scoped>\n",
       "    .dataframe tbody tr th:only-of-type {\n",
       "        vertical-align: middle;\n",
       "    }\n",
       "\n",
       "    .dataframe tbody tr th {\n",
       "        vertical-align: top;\n",
       "    }\n",
       "\n",
       "    .dataframe thead th {\n",
       "        text-align: right;\n",
       "    }\n",
       "</style>\n",
       "<table border=\"1\" class=\"dataframe\">\n",
       "  <thead>\n",
       "    <tr style=\"text-align: right;\">\n",
       "      <th></th>\n",
       "      <th>timestampMs</th>\n",
       "      <th>timestamp</th>\n",
       "      <th>latitudeE7</th>\n",
       "      <th>longitudeE7</th>\n",
       "      <th>altitude</th>\n",
       "    </tr>\n",
       "  </thead>\n",
       "  <tbody>\n",
       "    <tr>\n",
       "      <th>0</th>\n",
       "      <td>1.496705e+09</td>\n",
       "      <td>2017-06-05 15:26:33</td>\n",
       "      <td>61.192395</td>\n",
       "      <td>-149.864716</td>\n",
       "      <td>70.0</td>\n",
       "    </tr>\n",
       "    <tr>\n",
       "      <th>1</th>\n",
       "      <td>1.496705e+09</td>\n",
       "      <td>2017-06-05 15:25:01</td>\n",
       "      <td>61.192395</td>\n",
       "      <td>-149.864716</td>\n",
       "      <td>70.0</td>\n",
       "    </tr>\n",
       "    <tr>\n",
       "      <th>2</th>\n",
       "      <td>1.496705e+09</td>\n",
       "      <td>2017-06-05 15:24:01</td>\n",
       "      <td>61.192395</td>\n",
       "      <td>-149.864716</td>\n",
       "      <td>70.0</td>\n",
       "    </tr>\n",
       "    <tr>\n",
       "      <th>3</th>\n",
       "      <td>1.496705e+09</td>\n",
       "      <td>2017-06-05 15:22:36</td>\n",
       "      <td>61.192395</td>\n",
       "      <td>-149.864716</td>\n",
       "      <td>70.0</td>\n",
       "    </tr>\n",
       "    <tr>\n",
       "      <th>4</th>\n",
       "      <td>1.496705e+09</td>\n",
       "      <td>2017-06-05 15:21:36</td>\n",
       "      <td>61.192386</td>\n",
       "      <td>-149.864678</td>\n",
       "      <td>70.0</td>\n",
       "    </tr>\n",
       "  </tbody>\n",
       "</table>\n",
       "</div>"
      ],
      "text/plain": [
       "    timestampMs           timestamp  latitudeE7  longitudeE7  altitude\n",
       "0  1.496705e+09 2017-06-05 15:26:33   61.192395  -149.864716      70.0\n",
       "1  1.496705e+09 2017-06-05 15:25:01   61.192395  -149.864716      70.0\n",
       "2  1.496705e+09 2017-06-05 15:24:01   61.192395  -149.864716      70.0\n",
       "3  1.496705e+09 2017-06-05 15:22:36   61.192395  -149.864716      70.0\n",
       "4  1.496705e+09 2017-06-05 15:21:36   61.192386  -149.864678      70.0"
      ]
     },
     "execution_count": 7,
     "metadata": {},
     "output_type": "execute_result"
    }
   ],
   "source": [
    "#output = data[['timestampMs', 'latitudeE7', 'longitudeE7']]\n",
    "from datetime import datetime\n",
    "def timefmt(x):\n",
    "    #return datetime.fromtimestamp(int(x)).strftime(\"%Y-%m-%dT%H:%m\")\n",
    "    return datetime.fromtimestamp(int(x))\n",
    "output = pd.DataFrame()\n",
    "output['timestampMs'] = data['timestampMs'].astype('float') / 1000\n",
    "output['timestamp'] = output['timestampMs'].apply(timefmt)\n",
    "output['latitudeE7'] = data['latitudeE7'].astype('float') / 10000000\n",
    "output['longitudeE7'] = data['longitudeE7'].astype('float') / 10000000\n",
    "output['altitude'] = data['altitude'].astype('double')\n",
    "output.head()"
   ]
  },
  {
   "cell_type": "code",
   "execution_count": 8,
   "metadata": {},
   "outputs": [
    {
     "data": {
      "text/plain": [
       "timestampMs           float64\n",
       "timestamp      datetime64[ns]\n",
       "latitudeE7            float64\n",
       "longitudeE7           float64\n",
       "altitude              float64\n",
       "dtype: object"
      ]
     },
     "execution_count": 8,
     "metadata": {},
     "output_type": "execute_result"
    }
   ],
   "source": [
    "#just checking what we're dealing with\n",
    "output.dtypes"
   ]
  },
  {
   "cell_type": "markdown",
   "metadata": {},
   "source": [
    "## Get the timestamp from the image\n",
    "\n",
    "We can use the exif package to read the timestamp from an image.  We can test it out on a single image here."
   ]
  },
  {
   "cell_type": "code",
   "execution_count": 9,
   "metadata": {},
   "outputs": [
    {
     "name": "stdout",
     "output_type": "stream",
     "text": [
      "['_exif_ifd_pointer', '_gps_ifd_pointer', '_segments', 'artist', 'cfa_pattern', 'color_space', 'components_configuration', 'compression', 'contrast', 'copyright', 'custom_rendered', 'datetime', 'datetime_digitized', 'datetime_original', 'digital_zoom_ratio', 'exif_version', 'exposure_bias_value', 'exposure_mode', 'exposure_program', 'exposure_time', 'f_number', 'file_source', 'flash', 'flashpix_version', 'focal_length', 'focal_length_in_35mm_film', 'gain_control', 'get', 'get_file', 'gps_version_id', 'has_exif', 'jpeg_interchange_format', 'jpeg_interchange_format_length', 'light_source', 'make', 'maker_note', 'max_aperture_value', 'metering_mode', 'model', 'orientation', 'photographic_sensitivity', 'pixel_x_dimension', 'pixel_y_dimension', 'reference_black_white', 'resolution_unit', 'saturation', 'scene_capture_type', 'scene_type', 'sensing_method', 'sensitivity_type', 'sharpness', 'software', 'subject_distance_range', 'subsec_time', 'subsec_time_digitized', 'subsec_time_original', 'user_comment', 'white_balance', 'x_resolution', 'y_and_c_positioning', 'y_resolution']\n",
      " \n",
      "2015:05:27 21:50:22\n"
     ]
    }
   ],
   "source": [
    "#Using exif to read timestamp from image.  I tried using exif also to write back the GPS coordinates, however it seemed that GPSPhoto is a much easier option.\n",
    "from exif import Image\n",
    "with open(\"./img/DSC_1850.jpg\", 'rb') as image_file:\n",
    "    my_image = Image(image_file)\n",
    "\n",
    "#list all the information available in the image\n",
    "print(dir(my_image))\n",
    "print(' ')\n",
    "print(my_image.datetime_original)"
   ]
  },
  {
   "cell_type": "markdown",
   "metadata": {},
   "source": [
    "## Find the matching timestamp in the google data\n",
    "\n",
    "Next, we want to match the timestamp of an image with a timestamp in the google history to find out our coordinates at the time a particular photo was taken.  The challenge here is that a timestamp from a photo may not match exactly with our data so we can use pandas .get_loc function to find the nearest match.  But first we'll have to clean up the data a bit by sorting it and removing some duplicate entries as .get_loc requires.\n",
    "\n",
    "Note that 'n' is the row number or index in our sorted data where the match was found.\n"
   ]
  },
  {
   "cell_type": "code",
   "execution_count": 10,
   "metadata": {},
   "outputs": [
    {
     "name": "stdout",
     "output_type": "stream",
     "text": [
      "2015-05-27 21:50:22\n"
     ]
    },
    {
     "data": {
      "text/plain": [
       "timestampMs            1.43279e+09\n",
       "timestamp      2015-05-27 21:49:55\n",
       "latitudeE7                 60.1058\n",
       "longitudeE7               -149.434\n",
       "altitude                       NaN\n",
       "Name: 397104, dtype: object"
      ]
     },
     "execution_count": 10,
     "metadata": {},
     "output_type": "execute_result"
    }
   ],
   "source": [
    "from datetime import datetime\n",
    "\n",
    "dt = datetime.strptime(my_image.datetime_original, '%Y:%m:%d %H:%M:%S')\n",
    "print(dt)\n",
    "\n",
    "#get_loc requires values to be sorted and without duplicates\n",
    "output = output.sort_values(by=['timestamp'], axis=0)\n",
    "output = output.drop_duplicates(subset=['timestamp'], keep='first')\n",
    "\n",
    "idx = pd.Index(output['timestamp'])\n",
    "n = idx.get_loc(dt, method='nearest')\n",
    "output.iloc[n]"
   ]
  },
  {
   "cell_type": "markdown",
   "metadata": {},
   "source": [
    "## Write GPS Exif data back to an image.\n",
    "\n",
    "We can use a package called GPSPhoto to easily write lat long in decimal format.  \n",
    "\n",
    "Note: GPSPhoto has several dependencies and was a little tricky to satisfy them all.  One of them is 'PIL' (Python Image Library) but this is now called 'pillow' and can be installed with pip using that name."
   ]
  },
  {
   "cell_type": "code",
   "execution_count": 81,
   "metadata": {},
   "outputs": [],
   "source": [
    "#Now we'll use GPSPhoto to write some GPS coordinates to the image\n",
    "from GPSPhoto import gpsphoto\n",
    "photo = gpsphoto.GPSPhoto('./img/DSC_1368.JPG')\n",
    "info = gpsphoto.GPSInfo((61.123, -148.456), alt=10, timeStamp=dt)\n",
    "photo.modGPSData(info, './img/DSC_1368.JPG')"
   ]
  },
  {
   "cell_type": "markdown",
   "metadata": {},
   "source": [
    "# Put it all together"
   ]
  },
  {
   "cell_type": "code",
   "execution_count": 11,
   "metadata": {},
   "outputs": [
    {
     "name": "stdout",
     "output_type": "stream",
     "text": [
      "Modified image: .\\img\\2016-01-06_DSC_6237.JPG with lat=61.2064548 long=-149.9151696 alt=0\n",
      "Modified image: .\\img\\2016-01-15_DSC_6501.JPG with lat=61.5779418 long=-149.1482996 alt=133\n"
     ]
    },
    {
     "name": "stderr",
     "output_type": "stream",
     "text": [
      "Possibly corrupted field NoiseReduction in MakerNote IFD\n"
     ]
    },
    {
     "name": "stdout",
     "output_type": "stream",
     "text": [
      "Modified image: .\\img\\DSC_1850.jpg with lat=60.1057598 long=-149.4343206 alt=0\n"
     ]
    }
   ],
   "source": [
    "#Get list of image files in image directory\n",
    "from exif import Image\n",
    "from datetime import datetime\n",
    "import os\n",
    "from GPSPhoto import gpsphoto\n",
    "\n",
    "root = \".\\\\img\"\n",
    "file_list = []\n",
    "\n",
    "for path, subdirs, files in os.walk(root):\n",
    "     for name in files:\n",
    "        #print(name)\n",
    "        file_list.append(os.path.join(path, name))\n",
    "\n",
    "for file in file_list:\n",
    "    with open(file, 'rb') as image_file:\n",
    "        my_image = Image(image_file)\n",
    "    \n",
    "    dt = datetime.strptime(my_image.datetime_original, '%Y:%m:%d %H:%M:%S')\n",
    "    \n",
    "    #get_loc requires values to be sorted and without duplicates\n",
    "    output = output.sort_values(by=['timestamp'], axis=0)\n",
    "    output = output.drop_duplicates(subset=['timestamp'], keep='first')\n",
    "\n",
    "    idx = pd.Index(output['timestamp'])\n",
    "    n = idx.get_loc(dt, method='nearest')\n",
    "    lat = output.iloc[n]['latitudeE7']\n",
    "    lon = output.iloc[n]['longitudeE7']\n",
    "    altd = output.iloc[n]['altitude']\n",
    "    \n",
    "    #I discovered that sometimes the altitude contained bogus numbers so I'm making\n",
    "    #an attempt here to filter them out, as well as filter out any null values. \n",
    "    #We can just set the altitude to zero for any of these cases.\n",
    "    if altd != np.nan:\n",
    "        if altd == 'NaN':\n",
    "            altd = 0\n",
    "        else:\n",
    "            altd = int(np.int_(altd))\n",
    "            if not 0 < altd < 5000:  #sometimes the altitude in google is weird\n",
    "                altd = 0          \n",
    "    else:\n",
    "        altd = 0\n",
    "            \n",
    "    photo = gpsphoto.GPSPhoto(file)\n",
    "    info = gpsphoto.GPSInfo((lat, lon), alt=altd, timeStamp=dt)\n",
    "    photo.modGPSData(info, file)\n",
    "    \n",
    "    print('Modified image: ' + file + ' with lat=' + str(lat) + ' long=' + str(lon) + ' alt=' + str(altd))\n",
    "\n"
   ]
  }
 ],
 "metadata": {
  "kernelspec": {
   "display_name": "Python 3",
   "language": "python",
   "name": "python3"
  },
  "language_info": {
   "codemirror_mode": {
    "name": "ipython",
    "version": 3
   },
   "file_extension": ".py",
   "mimetype": "text/x-python",
   "name": "python",
   "nbconvert_exporter": "python",
   "pygments_lexer": "ipython3",
   "version": "3.7.0"
  }
 },
 "nbformat": 4,
 "nbformat_minor": 4
}
